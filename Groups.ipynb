{
 "cells": [
  {
   "cell_type": "code",
   "execution_count": 60,
   "metadata": {},
   "outputs": [],
   "source": [
    "from Groups import *"
   ]
  },
  {
   "cell_type": "markdown",
   "metadata": {},
   "source": [
    "### Usage"
   ]
  },
  {
   "cell_type": "code",
   "execution_count": 61,
   "metadata": {},
   "outputs": [],
   "source": [
    "G = DihegralGroup(3)"
   ]
  },
  {
   "cell_type": "code",
   "execution_count": 62,
   "metadata": {},
   "outputs": [
    {
     "data": {
      "text/plain": [
       "Group(e,r^1,r^2,s,sr^1,sr^2)"
      ]
     },
     "execution_count": 62,
     "metadata": {},
     "output_type": "execute_result"
    }
   ],
   "source": [
    "G"
   ]
  },
  {
   "cell_type": "code",
   "execution_count": 63,
   "metadata": {},
   "outputs": [
    {
     "data": {
      "text/plain": [
       "(r^1, r^2, e)"
      ]
     },
     "execution_count": 63,
     "metadata": {},
     "output_type": "execute_result"
    }
   ],
   "source": [
    "x = G.Element(1)\n",
    "y = G.Element(2)\n",
    "x,y,x*y"
   ]
  },
  {
   "cell_type": "code",
   "execution_count": 64,
   "metadata": {},
   "outputs": [
    {
     "data": {
      "text/plain": [
       "    \t   e\tr^1\tr^2\ts\tsr^1\tsr^2\t\n",
       "    \t   -\t---\t---\t-\t----\t----\t\n",
       "e\t|  e\tr^1\tr^2\ts\tsr^1\tsr^2\t\n",
       "r^1\t|  r^1\tr^2\te\tsr^2\ts\tsr^1\t\n",
       "r^2\t|  r^2\te\tr^1\tsr^1\tsr^2\ts\t\n",
       "s\t|  s\tsr^1\tsr^2\te\tr^1\tr^2\t\n",
       "sr^1\t|  sr^1\tsr^2\ts\tr^2\te\tr^1\t\n",
       "sr^2\t|  sr^2\ts\tsr^1\tr^1\tr^2\te\t"
      ]
     },
     "execution_count": 64,
     "metadata": {},
     "output_type": "execute_result"
    }
   ],
   "source": [
    "R = G.R\n",
    "R"
   ]
  },
  {
   "cell_type": "code",
   "execution_count": 65,
   "metadata": {},
   "outputs": [
    {
     "data": {
      "text/plain": [
       "array([[0, 1, 2, 3, 4, 5],\n",
       "       [1, 2, 0, 5, 3, 4],\n",
       "       [2, 0, 1, 4, 5, 3],\n",
       "       [3, 4, 5, 0, 1, 2],\n",
       "       [4, 5, 3, 2, 0, 1],\n",
       "       [5, 3, 4, 1, 2, 0]], dtype=int32)"
      ]
     },
     "execution_count": 65,
     "metadata": {},
     "output_type": "execute_result"
    }
   ],
   "source": [
    "R.T # The Calley table"
   ]
  },
  {
   "cell_type": "code",
   "execution_count": 66,
   "metadata": {},
   "outputs": [
    {
     "data": {
      "text/plain": [
       "['e', 'r^1', 'r^2', 's', 'sr^1', 'sr^2']"
      ]
     },
     "execution_count": 66,
     "metadata": {},
     "output_type": "execute_result"
    }
   ],
   "source": [
    "R.Elements # The elements that the Relation is operating over"
   ]
  },
  {
   "cell_type": "code",
   "execution_count": 67,
   "metadata": {},
   "outputs": [
    {
     "data": {
      "text/plain": [
       "Group(e,r^1,r^2)"
      ]
     },
     "execution_count": 67,
     "metadata": {},
     "output_type": "execute_result"
    }
   ],
   "source": [
    "H = R.generate([1])\n",
    "H"
   ]
  },
  {
   "cell_type": "code",
   "execution_count": 68,
   "metadata": {},
   "outputs": [
    {
     "data": {
      "text/plain": [
       "(r^2 * Group(e,r^1,r^2))"
      ]
     },
     "execution_count": 68,
     "metadata": {},
     "output_type": "execute_result"
    }
   ],
   "source": [
    "C = Coset(H,2)\n",
    "C"
   ]
  },
  {
   "cell_type": "code",
   "execution_count": 69,
   "metadata": {},
   "outputs": [
    {
     "data": {
      "text/plain": [
       "['r^2', 'e', 'r^1']"
      ]
     },
     "execution_count": 69,
     "metadata": {},
     "output_type": "execute_result"
    }
   ],
   "source": [
    "[R[i] for i in C.expand()]"
   ]
  },
  {
   "cell_type": "code",
   "execution_count": 70,
   "metadata": {},
   "outputs": [
    {
     "data": {
      "text/plain": [
       "[(e * Group(e,r^1,r^2)), (s * Group(e,r^1,r^2))]"
      ]
     },
     "execution_count": 70,
     "metadata": {},
     "output_type": "execute_result"
    }
   ],
   "source": [
    "G.Cosets(H)"
   ]
  },
  {
   "cell_type": "code",
   "execution_count": 71,
   "metadata": {},
   "outputs": [
    {
     "data": {
      "text/plain": [
       "Group(e,r^1,r^2)"
      ]
     },
     "execution_count": 71,
     "metadata": {},
     "output_type": "execute_result"
    }
   ],
   "source": [
    "N = G.MinimumNormalSubGroup()\n",
    "N"
   ]
  },
  {
   "cell_type": "code",
   "execution_count": 72,
   "metadata": {},
   "outputs": [
    {
     "data": {
      "text/plain": [
       "Group((e * Group(e,r^1,r^2)),(s * Group(e,r^1,r^2)))"
      ]
     },
     "execution_count": 72,
     "metadata": {},
     "output_type": "execute_result"
    }
   ],
   "source": [
    "G/N"
   ]
  },
  {
   "cell_type": "code",
   "execution_count": 73,
   "metadata": {},
   "outputs": [
    {
     "name": "stdout",
     "output_type": "stream",
     "text": [
      "Finding minimum generating set for :\n",
      " Group(e,r^1,r^2,s,sr^1,sr^2)\n",
      "N :\n",
      " Group(e,r^1,r^2)\n",
      "n :\n",
      " [1]\n",
      "G/N :\n",
      " Group((e * Group(e,r^1,r^2)),(s * Group(e,r^1,r^2)))\n",
      "Finding minimum generating set for :\n",
      " Group((e * Group(e,r^1,r^2)),(s * Group(e,r^1,r^2)))\n",
      "N :\n",
      " Group((e * Group(e,r^1,r^2)),(s * Group(e,r^1,r^2)))\n",
      "g :\n",
      " [3]\n",
      "N is abelian.\n"
     ]
    },
    {
     "data": {
      "text/plain": [
       "[3, 1]"
      ]
     },
     "execution_count": 73,
     "metadata": {},
     "output_type": "execute_result"
    }
   ],
   "source": [
    "gen = G.MinimumGeneratingSet(True)\n",
    "gen"
   ]
  },
  {
   "cell_type": "code",
   "execution_count": 74,
   "metadata": {},
   "outputs": [
    {
     "data": {
      "text/plain": [
       "Group(e,r^1,r^2,s,sr^1,sr^2)"
      ]
     },
     "execution_count": 74,
     "metadata": {},
     "output_type": "execute_result"
    }
   ],
   "source": [
    "G_g = R.generate(gen)\n",
    "G_g"
   ]
  },
  {
   "cell_type": "markdown",
   "metadata": {},
   "source": [
    "### Complexity Analysis"
   ]
  },
  {
   "cell_type": "code",
   "execution_count": 75,
   "metadata": {},
   "outputs": [],
   "source": [
    "from matplotlib.pyplot import plot,xlabel,ylabel,title,legend\n",
    "from time import time"
   ]
  },
  {
   "cell_type": "code",
   "execution_count": 83,
   "metadata": {},
   "outputs": [
    {
     "data": {
      "text/plain": [
       "<matplotlib.legend.Legend at 0x7fa1edb9b070>"
      ]
     },
     "execution_count": 83,
     "metadata": {},
     "output_type": "execute_result"
    },
    {
     "data": {
      "image/png": "[encoded data removed]",
      "text/plain": [
       "<Figure size 640x480 with 1 Axes>"
      ]
     },
     "metadata": {},
     "output_type": "display_data"
    }
   ],
   "source": [
    "L = []\n",
    "iterations = 5\n",
    "N = 30\n",
    "for n in range(3,N):\n",
    "    G = DihegralGroup(n)\n",
    "    to = time()\n",
    "    for _ in range(iterations):\n",
    "        g = G.MinimumGeneratingSet()\n",
    "        Gg = G.R.generate(g)\n",
    "        if not G == Gg:\n",
    "            print(\"oof\")\n",
    "            break\n",
    "    L.append((time()-to)/10)\n",
    "L = log(array(L))\n",
    "plot(range(3,N),L)\n",
    "\n",
    "# Curve fitting\n",
    "t = arange(3,N)\n",
    "Lt = log(t)\n",
    "X = array([[lt,1] for lt in Lt])\n",
    "XT = X.T\n",
    "XTX = X.T @ X\n",
    "XTXi = linalg.inv(XTX)\n",
    "pseudo_inverse = XTXi @ XT\n",
    "theta = dot(pseudo_inverse,L)\n",
    "a,b = theta\n",
    "t = linspace(3,N,1000)\n",
    "Lt = log(t)\n",
    "L_pred = Lt*a + b\n",
    "plot(t,L_pred)\n",
    "\n",
    "xlabel(\"$ n $\")\n",
    "ylabel(\"$\\ln(t)$ ($ t $ in miliseconds)\")\n",
    "title(\"Time to find minimum generating set for $ D_n $\")\n",
    "legend([\"Actual\",\"logarithmic curve fitted\"])"
   ]
  }
 ],
 "metadata": {
  "kernelspec": {
   "display_name": "Python 3",
   "language": "python",
   "name": "python3"
  },
  "language_info": {
   "codemirror_mode": {
    "name": "ipython",
    "version": 3
   },
   "file_extension": ".py",
   "mimetype": "text/x-python",
   "name": "python",
   "nbconvert_exporter": "python",
   "pygments_lexer": "ipython3",
   "version": "3.10.12"
  }
 },
 "nbformat": 4,
 "nbformat_minor": 2
}
